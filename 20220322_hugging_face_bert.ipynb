{
  "nbformat": 4,
  "nbformat_minor": 0,
  "metadata": {
    "colab": {
      "name": "20220322_hugging_face_bert",
      "provenance": [],
      "collapsed_sections": []
    },
    "kernelspec": {
      "name": "python3",
      "display_name": "Python 3"
    },
    "language_info": {
      "name": "python"
    },
    "accelerator": "GPU"
  },
  "cells": [
    {
      "cell_type": "markdown",
      "source": [
        "# このノートブックの概要\n",
        "\n",
        "- ストックマーク社の BERT 本4章を動作確認。\n",
        "\n",
        "TODO\n",
        "- hugging face にある他の日本語モデルを調査。\n",
        "- 複数の文を tokenizer で符号化したあと、一括で復号する方法。（使うことない？）"
      ],
      "metadata": {
        "id": "wC3_7bP3G3gl"
      }
    },
    {
      "cell_type": "code",
      "execution_count": 1,
      "metadata": {
        "id": "e3Grt2gyGpzz"
      },
      "outputs": [],
      "source": [
        "### fugashi は 形態素解析ツール Mecab を Python から使えるようにしたもの\n",
        "### ipadic は Mecab で形態素解析を利用するときに使う辞書\n",
        "!pip install -q transformers==4.5.0 fugashi==1.1.0 ipadic==1.0.0"
      ]
    },
    {
      "cell_type": "code",
      "source": [
        "### グローバル変数\n",
        "JAPANESE_WIKI_MODEL = 'cl-tohoku/bert-base-japanese-whole-word-masking'"
      ],
      "metadata": {
        "id": "q3iOAnXdHrsa"
      },
      "execution_count": 2,
      "outputs": []
    },
    {
      "cell_type": "code",
      "source": [
        "### ライブラリのインポート\n",
        "import pandas as pd\n",
        "import torch\n",
        "from transformers import BertJapaneseTokenizer, BertModel"
      ],
      "metadata": {
        "id": "1YVZZN-iIHZ0"
      },
      "execution_count": 3,
      "outputs": []
    },
    {
      "cell_type": "code",
      "source": [
        "### トークナイザのロード\n",
        "tokenizer = BertJapaneseTokenizer.from_pretrained(JAPANESE_WIKI_MODEL)\n",
        "\n",
        "### 日本語モデルの語彙数\n",
        "print(len(tokenizer.vocab))\n",
        "\n",
        "### id とトークン\n",
        "df_token = pd.DataFrame([(v, k) for k, v in tokenizer.vocab.items()], columns=['id', 'token'])\n",
        "df_token"
      ],
      "metadata": {
        "colab": {
          "base_uri": "https://localhost:8080/",
          "height": 441
        },
        "id": "aMJJRBFBIS1f",
        "outputId": "14f583bc-3041-48ee-a03a-c319c55efcc1"
      },
      "execution_count": 4,
      "outputs": [
        {
          "output_type": "stream",
          "name": "stdout",
          "text": [
            "32000\n"
          ]
        },
        {
          "output_type": "execute_result",
          "data": {
            "text/plain": [
              "          id   token\n",
              "0          0   [PAD]\n",
              "1          1   [UNK]\n",
              "2          2   [CLS]\n",
              "3          3   [SEP]\n",
              "4          4  [MASK]\n",
              "...      ...     ...\n",
              "31995  31995     ##з\n",
              "31996  31996     ##侃\n",
              "31997  31997     ##嬪\n",
              "31998  31998     ##崋\n",
              "31999  31999     ##巽\n",
              "\n",
              "[32000 rows x 2 columns]"
            ],
            "text/html": [
              "\n",
              "  <div id=\"df-f2fbadd8-98d7-484a-ab1a-3040764fc95b\">\n",
              "    <div class=\"colab-df-container\">\n",
              "      <div>\n",
              "<style scoped>\n",
              "    .dataframe tbody tr th:only-of-type {\n",
              "        vertical-align: middle;\n",
              "    }\n",
              "\n",
              "    .dataframe tbody tr th {\n",
              "        vertical-align: top;\n",
              "    }\n",
              "\n",
              "    .dataframe thead th {\n",
              "        text-align: right;\n",
              "    }\n",
              "</style>\n",
              "<table border=\"1\" class=\"dataframe\">\n",
              "  <thead>\n",
              "    <tr style=\"text-align: right;\">\n",
              "      <th></th>\n",
              "      <th>id</th>\n",
              "      <th>token</th>\n",
              "    </tr>\n",
              "  </thead>\n",
              "  <tbody>\n",
              "    <tr>\n",
              "      <th>0</th>\n",
              "      <td>0</td>\n",
              "      <td>[PAD]</td>\n",
              "    </tr>\n",
              "    <tr>\n",
              "      <th>1</th>\n",
              "      <td>1</td>\n",
              "      <td>[UNK]</td>\n",
              "    </tr>\n",
              "    <tr>\n",
              "      <th>2</th>\n",
              "      <td>2</td>\n",
              "      <td>[CLS]</td>\n",
              "    </tr>\n",
              "    <tr>\n",
              "      <th>3</th>\n",
              "      <td>3</td>\n",
              "      <td>[SEP]</td>\n",
              "    </tr>\n",
              "    <tr>\n",
              "      <th>4</th>\n",
              "      <td>4</td>\n",
              "      <td>[MASK]</td>\n",
              "    </tr>\n",
              "    <tr>\n",
              "      <th>...</th>\n",
              "      <td>...</td>\n",
              "      <td>...</td>\n",
              "    </tr>\n",
              "    <tr>\n",
              "      <th>31995</th>\n",
              "      <td>31995</td>\n",
              "      <td>##з</td>\n",
              "    </tr>\n",
              "    <tr>\n",
              "      <th>31996</th>\n",
              "      <td>31996</td>\n",
              "      <td>##侃</td>\n",
              "    </tr>\n",
              "    <tr>\n",
              "      <th>31997</th>\n",
              "      <td>31997</td>\n",
              "      <td>##嬪</td>\n",
              "    </tr>\n",
              "    <tr>\n",
              "      <th>31998</th>\n",
              "      <td>31998</td>\n",
              "      <td>##崋</td>\n",
              "    </tr>\n",
              "    <tr>\n",
              "      <th>31999</th>\n",
              "      <td>31999</td>\n",
              "      <td>##巽</td>\n",
              "    </tr>\n",
              "  </tbody>\n",
              "</table>\n",
              "<p>32000 rows × 2 columns</p>\n",
              "</div>\n",
              "      <button class=\"colab-df-convert\" onclick=\"convertToInteractive('df-f2fbadd8-98d7-484a-ab1a-3040764fc95b')\"\n",
              "              title=\"Convert this dataframe to an interactive table.\"\n",
              "              style=\"display:none;\">\n",
              "        \n",
              "  <svg xmlns=\"http://www.w3.org/2000/svg\" height=\"24px\"viewBox=\"0 0 24 24\"\n",
              "       width=\"24px\">\n",
              "    <path d=\"M0 0h24v24H0V0z\" fill=\"none\"/>\n",
              "    <path d=\"M18.56 5.44l.94 2.06.94-2.06 2.06-.94-2.06-.94-.94-2.06-.94 2.06-2.06.94zm-11 1L8.5 8.5l.94-2.06 2.06-.94-2.06-.94L8.5 2.5l-.94 2.06-2.06.94zm10 10l.94 2.06.94-2.06 2.06-.94-2.06-.94-.94-2.06-.94 2.06-2.06.94z\"/><path d=\"M17.41 7.96l-1.37-1.37c-.4-.4-.92-.59-1.43-.59-.52 0-1.04.2-1.43.59L10.3 9.45l-7.72 7.72c-.78.78-.78 2.05 0 2.83L4 21.41c.39.39.9.59 1.41.59.51 0 1.02-.2 1.41-.59l7.78-7.78 2.81-2.81c.8-.78.8-2.07 0-2.86zM5.41 20L4 18.59l7.72-7.72 1.47 1.35L5.41 20z\"/>\n",
              "  </svg>\n",
              "      </button>\n",
              "      \n",
              "  <style>\n",
              "    .colab-df-container {\n",
              "      display:flex;\n",
              "      flex-wrap:wrap;\n",
              "      gap: 12px;\n",
              "    }\n",
              "\n",
              "    .colab-df-convert {\n",
              "      background-color: #E8F0FE;\n",
              "      border: none;\n",
              "      border-radius: 50%;\n",
              "      cursor: pointer;\n",
              "      display: none;\n",
              "      fill: #1967D2;\n",
              "      height: 32px;\n",
              "      padding: 0 0 0 0;\n",
              "      width: 32px;\n",
              "    }\n",
              "\n",
              "    .colab-df-convert:hover {\n",
              "      background-color: #E2EBFA;\n",
              "      box-shadow: 0px 1px 2px rgba(60, 64, 67, 0.3), 0px 1px 3px 1px rgba(60, 64, 67, 0.15);\n",
              "      fill: #174EA6;\n",
              "    }\n",
              "\n",
              "    [theme=dark] .colab-df-convert {\n",
              "      background-color: #3B4455;\n",
              "      fill: #D2E3FC;\n",
              "    }\n",
              "\n",
              "    [theme=dark] .colab-df-convert:hover {\n",
              "      background-color: #434B5C;\n",
              "      box-shadow: 0px 1px 3px 1px rgba(0, 0, 0, 0.15);\n",
              "      filter: drop-shadow(0px 1px 2px rgba(0, 0, 0, 0.3));\n",
              "      fill: #FFFFFF;\n",
              "    }\n",
              "  </style>\n",
              "\n",
              "      <script>\n",
              "        const buttonEl =\n",
              "          document.querySelector('#df-f2fbadd8-98d7-484a-ab1a-3040764fc95b button.colab-df-convert');\n",
              "        buttonEl.style.display =\n",
              "          google.colab.kernel.accessAllowed ? 'block' : 'none';\n",
              "\n",
              "        async function convertToInteractive(key) {\n",
              "          const element = document.querySelector('#df-f2fbadd8-98d7-484a-ab1a-3040764fc95b');\n",
              "          const dataTable =\n",
              "            await google.colab.kernel.invokeFunction('convertToInteractive',\n",
              "                                                     [key], {});\n",
              "          if (!dataTable) return;\n",
              "\n",
              "          const docLinkHtml = 'Like what you see? Visit the ' +\n",
              "            '<a target=\"_blank\" href=https://colab.research.google.com/notebooks/data_table.ipynb>data table notebook</a>'\n",
              "            + ' to learn more about interactive tables.';\n",
              "          element.innerHTML = '';\n",
              "          dataTable['output_type'] = 'display_data';\n",
              "          await google.colab.output.renderOutput(dataTable, element);\n",
              "          const docLink = document.createElement('div');\n",
              "          docLink.innerHTML = docLinkHtml;\n",
              "          element.appendChild(docLink);\n",
              "        }\n",
              "      </script>\n",
              "    </div>\n",
              "  </div>\n",
              "  "
            ]
          },
          "metadata": {},
          "execution_count": 4
        }
      ]
    },
    {
      "cell_type": "code",
      "source": [
        "text = '''\n",
        "第一条　この法律は、高度情報通信社会の進展に伴い個人情報の利用が著しく拡大してい\n",
        "ることに鑑み、個人情報の適正な取扱いに関し、基本理念及び政府による基本方針の作成\n",
        "その他の個人情報の保護に関する施策の基本となる事項を定め、国及び地方公共団体の責\n",
        "務等を明らかにするとともに、個人情報を取り扱う事業者の遵守すべき義務等を定めるこ\n",
        "とにより、個人情報の適正かつ効果的な活用が新たな産業の創出並びに活力ある経済社会\n",
        "及び豊かな国民生活の実現に資するものであることその他の個人情報の有用性に配慮しつ\n",
        "つ、個人の権利利益を保護することを目的とする。\n",
        "'''\n",
        "\n",
        "### トークン化\n",
        "input_tokens = tokenizer.tokenize(text)\n",
        "print(len(input_tokens))\n",
        "print(input_tokens)\n",
        "\n",
        "### 符号化\n",
        "### 符号化のときは先頭に [CLS], 末尾に [SEP] の特殊トークンとして加えるので、\n",
        "### トークン化したときの数よりも2個多い\n",
        "input_ids = tokenizer.encode(text)\n",
        "print(len(input_ids))\n",
        "print(input_ids)\n",
        "\n",
        "### 復号\n",
        "output_tokens = tokenizer.convert_ids_to_tokens(input_ids)\n",
        "print(len(output_tokens))\n",
        "print(output_tokens)"
      ],
      "metadata": {
        "colab": {
          "base_uri": "https://localhost:8080/"
        },
        "id": "IXnrPn9_IrSD",
        "outputId": "cd9bda5e-d168-4ec8-dad8-f4267f1bd1b2"
      },
      "execution_count": 5,
      "outputs": [
        {
          "output_type": "stream",
          "name": "stdout",
          "text": [
            "157\n",
            "['第', '一', '条', 'この', '法律', 'は', '、', '高度', '情報', '通信', '社会', 'の', '進展', 'に', '伴い', '個人', '情報', 'の', '利用', 'が', '著しく', '拡大', 'し', 'て', 'い', 'る', 'こと', 'に', '鑑み', '、', '個人', '情報', 'の', '適正', 'な', '取扱い', 'に関し', '、', '基本', '理念', '及び', '政府', 'による', '基本', '方針', 'の', '作成', 'その他', 'の', '個人', '情報', 'の', '保護', 'に関する', '施策', 'の', '基本', 'と', 'なる', '事項', 'を', '定め', '、', '国', '及び', '地方', '公共', '団体', 'の', '責', '務', '等', 'を', '明らか', 'に', 'する', 'とともに', '、', '個人', '情報', 'を', '取り扱う', '事業', '者', 'の', '遵守', 'す', 'べき', '義務', '等', 'を', '定める', 'こ', 'と', 'により', '、', '個人', '情報', 'の', '適正', 'かつ', '効果', '的', 'な', '活用', 'が', '新た', 'な', '産業', 'の', '創出', '並びに', '活', '##力', 'ある', '経済', '社会', '及び', '豊か', 'な', '国民', '生活', 'の', '実現', 'に', '資', '##する', 'もの', 'で', 'ある', 'こと', 'その他', 'の', '個人', '情報', 'の', '有用', '性', 'に', '配慮', 'し', 'つ', 'つ', '、', '個人', 'の', '権利', '利益', 'を', '保護', 'する', 'こと', 'を', '目的', 'と', 'する', '。']\n",
            "159\n",
            "[2, 97, 52, 631, 70, 2409, 9, 6, 3740, 933, 2035, 745, 5, 10244, 7, 1775, 1963, 933, 5, 666, 14, 9295, 2044, 15, 16, 21, 4551, 45, 7, 24186, 6, 1963, 933, 5, 14261, 18, 23773, 20369, 6, 1353, 9842, 920, 886, 250, 1353, 3381, 5, 2544, 1684, 5, 1963, 933, 5, 1979, 1092, 14750, 5, 1353, 13, 139, 7536, 11, 2518, 6, 79, 920, 794, 3447, 1491, 5, 2637, 568, 459, 11, 2275, 7, 34, 869, 6, 1963, 933, 11, 11789, 774, 104, 5, 22972, 340, 1761, 4411, 459, 11, 7281, 27, 13, 225, 6, 1963, 933, 5, 14261, 772, 1983, 81, 18, 4596, 14, 1485, 18, 1926, 5, 20667, 10437, 271, 28677, 31, 994, 745, 920, 6965, 18, 1598, 1326, 5, 2519, 7, 711, 30, 120, 12, 31, 45, 1684, 5, 1963, 933, 5, 12914, 245, 7, 7641, 15, 181, 181, 6, 1963, 5, 3410, 5161, 11, 1979, 34, 45, 11, 1184, 13, 34, 8, 3]\n",
            "159\n",
            "['[CLS]', '第', '一', '条', 'この', '法律', 'は', '、', '高度', '情報', '通信', '社会', 'の', '進展', 'に', '伴い', '個人', '情報', 'の', '利用', 'が', '著しく', '拡大', 'し', 'て', 'い', 'る', 'こと', 'に', '鑑み', '、', '個人', '情報', 'の', '適正', 'な', '取扱い', 'に関し', '、', '基本', '理念', '及び', '政府', 'による', '基本', '方針', 'の', '作成', 'その他', 'の', '個人', '情報', 'の', '保護', 'に関する', '施策', 'の', '基本', 'と', 'なる', '事項', 'を', '定め', '、', '国', '及び', '地方', '公共', '団体', 'の', '責', '務', '等', 'を', '明らか', 'に', 'する', 'とともに', '、', '個人', '情報', 'を', '取り扱う', '事業', '者', 'の', '遵守', 'す', 'べき', '義務', '等', 'を', '定める', 'こ', 'と', 'により', '、', '個人', '情報', 'の', '適正', 'かつ', '効果', '的', 'な', '活用', 'が', '新た', 'な', '産業', 'の', '創出', '並びに', '活', '##力', 'ある', '経済', '社会', '及び', '豊か', 'な', '国民', '生活', 'の', '実現', 'に', '資', '##する', 'もの', 'で', 'ある', 'こと', 'その他', 'の', '個人', '情報', 'の', '有用', '性', 'に', '配慮', 'し', 'つ', 'つ', '、', '個人', 'の', '権利', '利益', 'を', '保護', 'する', 'こと', 'を', '目的', 'と', 'する', '。', '[SEP]']\n"
          ]
        }
      ]
    },
    {
      "cell_type": "code",
      "source": [
        "### 元文と符号化復元したテキストの違い\n",
        "### 元文には改行・空白が含まれていたが、符号化復元した文ではそれらが除かれ、特殊トークンが追加されている\n",
        "print(text)\n",
        "print(''.join(output_tokens))"
      ],
      "metadata": {
        "colab": {
          "base_uri": "https://localhost:8080/"
        },
        "id": "OO2pQsAJK8VC",
        "outputId": "60882e76-7933-4c12-bb62-b480ed1bdd93"
      },
      "execution_count": 6,
      "outputs": [
        {
          "output_type": "stream",
          "name": "stdout",
          "text": [
            "\n",
            "第一条　この法律は、高度情報通信社会の進展に伴い個人情報の利用が著しく拡大してい\n",
            "ることに鑑み、個人情報の適正な取扱いに関し、基本理念及び政府による基本方針の作成\n",
            "その他の個人情報の保護に関する施策の基本となる事項を定め、国及び地方公共団体の責\n",
            "務等を明らかにするとともに、個人情報を取り扱う事業者の遵守すべき義務等を定めるこ\n",
            "とにより、個人情報の適正かつ効果的な活用が新たな産業の創出並びに活力ある経済社会\n",
            "及び豊かな国民生活の実現に資するものであることその他の個人情報の有用性に配慮しつ\n",
            "つ、個人の権利利益を保護することを目的とする。\n",
            "\n",
            "[CLS]第一条この法律は、高度情報通信社会の進展に伴い個人情報の利用が著しく拡大していることに鑑み、個人情報の適正な取扱いに関し、基本理念及び政府による基本方針の作成その他の個人情報の保護に関する施策の基本となる事項を定め、国及び地方公共団体の責務等を明らかにするとともに、個人情報を取り扱う事業者の遵守すべき義務等を定めることにより、個人情報の適正かつ効果的な活用が新たな産業の創出並びに活##力ある経済社会及び豊かな国民生活の実現に資##するものであることその他の個人情報の有用性に配慮しつつ、個人の権利利益を保護することを目的とする。[SEP]\n"
          ]
        }
      ]
    },
    {
      "cell_type": "code",
      "source": [
        "text = '日本の夜明けぜよ'\n",
        "\n",
        "### 複数の文をまとめて処理するときの対応：トークン列の長さを揃えるために\n",
        "### max_length の指定、padding と trunction を以下のように指定\n",
        "encoding = tokenizer(text,\n",
        "                     max_length=12,\n",
        "                     padding='max_length',\n",
        "                     truncation=True\n",
        ")\n",
        "\n",
        "### 符号化した結果\n",
        "### token_type_ids は文のペアを入力するときに意味を持つ\n",
        "### attention_mask は [PAD] の位置は0, それ以外は1\n",
        "print(encoding.keys())\n",
        "print(encoding['input_ids'])\n",
        "print(encoding['token_type_ids'])\n",
        "print(encoding['attention_mask'])\n",
        "\n",
        "### 復号\n",
        "tokens = tokenizer.convert_ids_to_tokens(encoding['input_ids'])\n",
        "print(tokens)"
      ],
      "metadata": {
        "colab": {
          "base_uri": "https://localhost:8080/"
        },
        "id": "KoWccreyMwoW",
        "outputId": "333cf180-9939-4b4c-a10e-07b753574bd7"
      },
      "execution_count": 7,
      "outputs": [
        {
          "output_type": "stream",
          "name": "stdout",
          "text": [
            "dict_keys(['input_ids', 'token_type_ids', 'attention_mask'])\n",
            "[2, 91, 5, 18924, 4403, 54, 3, 0, 0, 0, 0, 0]\n",
            "[0, 0, 0, 0, 0, 0, 0, 0, 0, 0, 0, 0]\n",
            "[1, 1, 1, 1, 1, 1, 1, 0, 0, 0, 0, 0]\n",
            "['[CLS]', '日本', 'の', '夜明け', 'ぜ', 'よ', '[SEP]', '[PAD]', '[PAD]', '[PAD]', '[PAD]', '[PAD]']\n"
          ]
        }
      ]
    },
    {
      "cell_type": "code",
      "source": [
        "texts = ['日本の夜明けぜよ', '日本を今一度　せんたくいたし申候']\n",
        "\n",
        "### 複数の文を処理\n",
        "encoding = tokenizer(texts,\n",
        "                     max_length=12,\n",
        "                     padding='max_length',\n",
        "                     truncation=True,\n",
        "                     return_tensors='pt'\n",
        ")\n",
        "\n",
        "### GPU 利用\n",
        "encoding = { k: v.cuda() for k, v in encoding.items() }\n",
        "\n",
        "encoding"
      ],
      "metadata": {
        "colab": {
          "base_uri": "https://localhost:8080/"
        },
        "id": "SHBjHj3pM1Vc",
        "outputId": "d471d865-b79d-4bcf-8fec-eb23c5e486dd"
      },
      "execution_count": 8,
      "outputs": [
        {
          "output_type": "execute_result",
          "data": {
            "text/plain": [
              "{'attention_mask': tensor([[1, 1, 1, 1, 1, 1, 1, 0, 0, 0, 0, 0],\n",
              "         [1, 1, 1, 1, 1, 1, 1, 1, 1, 1, 1, 1]], device='cuda:0'),\n",
              " 'input_ids': tensor([[    2,    91,     5, 18924,  4403,    54,     3,     0,     0,     0,\n",
              "              0,     0],\n",
              "         [    2,    91,    11,   744,    52,   559,   191,  1058,  5034,  6785,\n",
              "          28454,     3]], device='cuda:0'),\n",
              " 'token_type_ids': tensor([[0, 0, 0, 0, 0, 0, 0, 0, 0, 0, 0, 0],\n",
              "         [0, 0, 0, 0, 0, 0, 0, 0, 0, 0, 0, 0]], device='cuda:0')}"
            ]
          },
          "metadata": {},
          "execution_count": 8
        }
      ]
    },
    {
      "cell_type": "code",
      "source": [
        "### モデルのロード\n",
        "bert = BertModel.from_pretrained(JAPANESE_WIKI_MODEL)\n",
        "\n",
        "### GPU\n",
        "bert = bert.cuda()\n",
        "\n",
        "print(bert.config)"
      ],
      "metadata": {
        "colab": {
          "base_uri": "https://localhost:8080/"
        },
        "id": "c5ileBDtXj_2",
        "outputId": "a31eb067-8a57-43ee-ad10-1c90061c652f"
      },
      "execution_count": 9,
      "outputs": [
        {
          "output_type": "stream",
          "name": "stdout",
          "text": [
            "BertConfig {\n",
            "  \"_name_or_path\": \"cl-tohoku/bert-base-japanese-whole-word-masking\",\n",
            "  \"architectures\": [\n",
            "    \"BertForMaskedLM\"\n",
            "  ],\n",
            "  \"attention_probs_dropout_prob\": 0.1,\n",
            "  \"gradient_checkpointing\": false,\n",
            "  \"hidden_act\": \"gelu\",\n",
            "  \"hidden_dropout_prob\": 0.1,\n",
            "  \"hidden_size\": 768,\n",
            "  \"initializer_range\": 0.02,\n",
            "  \"intermediate_size\": 3072,\n",
            "  \"layer_norm_eps\": 1e-12,\n",
            "  \"max_position_embeddings\": 512,\n",
            "  \"model_type\": \"bert\",\n",
            "  \"num_attention_heads\": 12,\n",
            "  \"num_hidden_layers\": 12,\n",
            "  \"pad_token_id\": 0,\n",
            "  \"position_embedding_type\": \"absolute\",\n",
            "  \"tokenizer_class\": \"BertJapaneseTokenizer\",\n",
            "  \"transformers_version\": \"4.5.0\",\n",
            "  \"type_vocab_size\": 2,\n",
            "  \"use_cache\": true,\n",
            "  \"vocab_size\": 32000\n",
            "}\n",
            "\n"
          ]
        }
      ]
    },
    {
      "cell_type": "markdown",
      "source": [
        "- `num_hidden_layers`: レイヤー数は12\n",
        "- `hidden_size`: BERT の出力は768次元\n",
        "- `max_position_embedding`: 最大で入力できるトークン列の長さは512"
      ],
      "metadata": {
        "id": "tZi6xg1QZO9V"
      }
    },
    {
      "cell_type": "code",
      "source": [
        "### BERT 処理\n",
        "output = bert(**encoding)\n",
        "last_hidden_state = output.last_hidden_state\n",
        "\n",
        "### 最終層のサイズ、数値\n",
        "### (2, 12, 768) は、2つの文、12のトークン、768次元の出力を意味する\n",
        "print(last_hidden_state.shape)\n",
        "print(last_hidden_state)\n",
        "\n",
        "### 計算の途中経過を保存しないための処理\n",
        "with torch.no_grad():\n",
        "    output = bert(**encoding)\n",
        "    last_hidden_state = output.last_hidden_state\n",
        "\n",
        "### キャスト\n",
        "last_hidden_state = last_hidden_state.cpu()     ### CPU に移す\n",
        "last_hidden_state = last_hidden_state.numpy()   ### numpy.ndarray\n",
        "last_hidden_state = last_hidden_state.tolist()  ### リスト"
      ],
      "metadata": {
        "colab": {
          "base_uri": "https://localhost:8080/"
        },
        "id": "3K6K8-KSYmXD",
        "outputId": "989d4e7e-83f2-4b29-ea87-3e0b8fd61302"
      },
      "execution_count": 10,
      "outputs": [
        {
          "output_type": "stream",
          "name": "stdout",
          "text": [
            "torch.Size([2, 12, 768])\n",
            "tensor([[[-0.1492, -0.4452,  0.2200,  ...,  0.2751, -0.1948,  0.2257],\n",
            "         [ 0.1318,  0.3195,  0.1849,  ...,  0.3954, -0.4412, -0.1549],\n",
            "         [ 0.0778,  0.1387, -0.1841,  ..., -0.0641,  0.2463,  0.2576],\n",
            "         ...,\n",
            "         [ 0.0120, -0.0968,  0.0148,  ...,  0.2821, -0.0560, -0.0110],\n",
            "         [ 0.0280,  0.0099, -0.2381,  ...,  0.2420,  0.0107,  0.2702],\n",
            "         [ 0.0386, -0.1014,  0.0201,  ...,  0.1868, -0.1122,  0.1650]],\n",
            "\n",
            "        [[-0.4858,  0.3056, -0.2396,  ..., -0.0197, -0.3537, -0.0568],\n",
            "         [-0.1149,  0.8836, -0.2248,  ...,  0.1479, -0.1881, -0.6786],\n",
            "         [ 0.0990,  0.1932, -0.2130,  ...,  0.1664,  0.1663, -0.1990],\n",
            "         ...,\n",
            "         [-0.6219, -0.0259,  0.2272,  ..., -0.1069,  0.4126, -0.4511],\n",
            "         [-0.9980,  0.1628,  0.5400,  ..., -0.5481, -0.0347,  0.1525],\n",
            "         [-0.8465, -0.0988, -0.6838,  ..., -0.8776,  0.4441,  0.1302]]],\n",
            "       device='cuda:0', grad_fn=<NativeLayerNormBackward0>)\n"
          ]
        }
      ]
    }
  ]
}